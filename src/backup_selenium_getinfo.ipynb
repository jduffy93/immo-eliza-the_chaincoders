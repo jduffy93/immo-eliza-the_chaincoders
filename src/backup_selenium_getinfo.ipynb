{
 "cells": [
  {
   "cell_type": "code",
   "execution_count": 1,
   "metadata": {},
   "outputs": [],
   "source": [
    "# The selenium.webdriver module provides all the implementations of WebDriver\n",
    "# Currently supported are Firefox, Chrome, IE and Remote. The `Keys` class provides keys on\n",
    "# the keyboard such as RETURN, F1, ALT etc.\n",
    "# ipykernal (6.29.1) needs to be installed to run notebook in venv. If in vscode, it will ask you automatically\n",
    "\n",
    "from selenium import webdriver\n",
    "from selenium.webdriver.common.keys import Keys\n",
    "from selenium.webdriver.common.by import By\n",
    "import time"
   ]
  },
  {
   "cell_type": "code",
   "execution_count": 2,
   "metadata": {},
   "outputs": [],
   "source": [
    "# This also works in source code now\n",
    "\n",
    "url = \"https://www.immoweb.be/en/classified/apartment-block/for-sale/forest/1190/11120343\"\n",
    "\n",
    "options = webdriver.ChromeOptions() \n",
    "options.add_argument(\"--auto-open-devtools-for-tabs\")\n",
    "#options.add_experimental_option(\"detach\", True) # Detaches webdriver (keeps browser window open)\n",
    "\n",
    "driver = webdriver.Chrome(options=options)\n",
    "driver.get(url)\n",
    "\n",
    "time.sleep(5) # 5 second timer to allow all elements to load in (maybe use EC later?)\n",
    "\n",
    "# GDPR\n",
    "element = driver.execute_script(\"\"\"return document.querySelector('#usercentrics-root').shadowRoot.querySelector('div div div div div div div div div div div button[data-testid=\"uc-accept-all-button\"]')\"\"\")\n",
    "element.click()\n",
    "\n",
    "driver.maximize_window() # Needs to be done to open the accordian elements (drop down menus on page)\n",
    "\n",
    "# Fetching details\n",
    "postal_code = driver.find_elements(By.XPATH, \"//span[@class='classified__information--address-row']\")\n",
    "th_tags_keys = driver.find_elements(By.XPATH, \"//tbody[@class='classified-table__body']//th\")\n",
    "td_tags_values = driver.find_elements(By.XPATH, \"//tbody[@class='classified-table__body']//td\")\n",
    "\n",
    "# COnverting webelements to their content\n",
    "tag_keys = [i.text for i in th_tags_keys]\n",
    "tag_values = [i.text for i in td_tags_values]\n",
    "postal_code_text = [i.text for i in postal_code]\n",
    "\n",
    "\n",
    "print(tag_keys)\n",
    "print(tag_values)\n",
    "print(postal_code_text)"
   ]
  }
 ],
 "metadata": {
  "kernelspec": {
   "display_name": "venv",
   "language": "python",
   "name": "python3"
  },
  "language_info": {
   "codemirror_mode": {
    "name": "ipython",
    "version": 3
   },
   "file_extension": ".py",
   "mimetype": "text/x-python",
   "name": "python",
   "nbconvert_exporter": "python",
   "pygments_lexer": "ipython3",
   "version": "3.11.5"
  }
 },
 "nbformat": 4,
 "nbformat_minor": 2
}

{
 "cells": [
  {
   "cell_type": "code",
   "execution_count": 1,
   "metadata": {},
   "outputs": [],
   "source": [
    "# The selenium.webdriver module provides all the implementations of WebDriver\n",
    "# Currently supported are Firefox, Chrome, IE and Remote. The `Keys` class provides keys on\n",
    "# the keyboard such as RETURN, F1, ALT etc.\n",
    "# ipykernal (6.29.1) needs to be installed to run notebook in venv. If in vscode, it will ask you automatically\n",
    "\n",
    "from selenium import webdriver\n",
    "from selenium.webdriver.common.keys import Keys\n",
    "from selenium.webdriver.common.by import By\n",
    "import time"
   ]
  },
  {
   "cell_type": "code",
   "execution_count": 6,
   "metadata": {},
   "outputs": [],
   "source": [
    "# This also works in source code now\n",
    "\n",
    "url = \"https://www.immoweb.be/en/classified/apartment-block/for-sale/forest/1190/11120343\"\n",
    "\n",
    "options = webdriver.ChromeOptions() \n",
    "options.add_argument(\"--auto-open-devtools-for-tabs\")\n",
    "#options.add_experimental_option(\"detach\", True) # Detaches webdriver (keeps browser window open)\n",
    "\n",
    "driver = webdriver.Chrome(options=options)\n",
    "driver.get(url)\n",
    "\n",
    "time.sleep(5) # 5 second timer to allow all elements to load in (maybe use EC later?)\n",
    "\n"
   ]
  },
  {
   "cell_type": "code",
   "execution_count": 7,
   "metadata": {},
   "outputs": [
    {
     "name": "stdout",
     "output_type": "stream",
     "text": [
      "['Available as of', 'Available date', 'Neighbourhood or locality', 'Construction year', 'Building condition', 'Street frontage width', 'Number of frontages', 'Surroundings type', 'Virtual visit', 'Living area', 'Living room surface', 'Dining room', 'Kitchen type', 'Bedrooms', 'Bedroom 1 surface', 'Bedroom 2 surface', 'Bedroom 3 surface', 'Bedroom 4 surface', 'Bedroom 5 surface', 'Bathrooms', 'Shower rooms', 'Toilets', 'Office surface', 'Office', 'Basement surface', 'Furnished', 'Surface of the plot', 'Width of the lot on the street', 'Connection to sewer network', 'Gas, water & electricity', 'Garden surface', 'Terrace surface', 'Elevator', 'Accessible for disabled people', 'Intercom', 'TV cable', 'Visio phone', 'Swimming pool', 'Primary energy consumption', 'Energy class', '', 'Reference number of the EPC report', 'CO₂ emission', 'Yearly theoretical total energy consumption', 'Heating type', 'Double glazing', 'Total ground floor buildable', 'Subdivision permit', 'Possible priority purchase right', 'Proceedings for breach of planning regulations', 'Flood zone type', 'Latest land use designation', 'Price', 'Cadastral income', 'Tenement building', 'Address', 'Website', 'External reference']\n",
      "['After signing the deed', 'September 1 2023 - 12:00 AM', 'Bruxelles', '1902', 'Good', '6 m', '2', 'Living area (residential, urban or rural)', 'Link to the virtual visit', '261 m²\\nsquare meters', '70 m²\\nsquare meters', 'Yes', 'USA installed', '7', '16 m²\\nsquare meters', '12 m²\\nsquare meters', '10 m²\\nsquare meters', '16 m²\\nsquare meters', '10 m²\\nsquare meters', '3', '1', '3', '18 m²\\nsquare meters', 'Yes', '40 m²\\nsquare meters', 'No', '295 m²\\nsquare meters', '7 m\\nmeters', 'Connected', 'Yes', '145 m²\\nsquare meters', '20 m²\\nsquare meters', 'No', 'No', 'Yes', 'Yes', 'Yes', 'No', '468 kWh/m²\\nkilowatt hour per square meters', 'G', 'Not specified', '94 kg CO₂/m²', 'Not specified', 'Gas', 'Yes', '130 m²\\nsquare meters', 'No', 'No', 'No', 'Non flood zone', 'Living area (residential, urban or rural)', 'Make an offer starting from € 599,000\\nMake an offer starting from 599000 €', '€ 1,866\\n1866 €', 'Yes', 'Finance your purchase\\nNeed a loan? Get your mortgage rate in a few clicks!\\nSimulate my loan\\nInsure your purchase\\nYour home insurance, simple, quick and complete\\nCalculate my price', 'Place Communale 8\\n1160 - Auderghem', 'http://www.weinvest.be', '5840923']\n",
      "['Avenue du Pont de Luttre 91', '1190 — Forest']\n"
     ]
    }
   ],
   "source": [
    "time.sleep(5) # 5 second timer to allow all elements to load in (maybe use EC later?)\n",
    "\n",
    "# GDPR\n",
    "element = driver.execute_script(\"\"\"return document.querySelector('#usercentrics-root').shadowRoot.querySelector('div div div div div button[data-testid=\"uc-accept-all-button\"]')\"\"\")\n",
    "element.click()\n",
    "\n",
    "driver.maximize_window() # Needs to be done to open the accordian elements (drop down menus on page)\n",
    "\n",
    "# Fetching details\n",
    "postal_code = driver.find_elements(By.XPATH, \"//span[@class='classified__information--address-row']\")\n",
    "th_tags_keys = driver.find_elements(By.XPATH, \"//tbody[@class='classified-table__body']//th\")\n",
    "td_tags_values = driver.find_elements(By.XPATH, \"//tbody[@class='classified-table__body']//td\")\n",
    "\n",
    "# COnverting webelements to their content\n",
    "tag_keys = [i.text for i in th_tags_keys]\n",
    "tag_values = [i.text for i in td_tags_values]\n",
    "postal_code_text = [i.text for i in postal_code]\n",
    "\n",
    "\n",
    "print(tag_keys)\n",
    "print(tag_values)\n",
    "print(postal_code_text)"
   ]
  },
  {
   "cell_type": "code",
   "execution_count": null,
   "metadata": {},
   "outputs": [],
   "source": []
  }
 ],
 "metadata": {
  "kernelspec": {
   "display_name": "venv",
   "language": "python",
   "name": "python3"
  },
  "language_info": {
   "codemirror_mode": {
    "name": "ipython",
    "version": 3
   },
   "file_extension": ".py",
   "mimetype": "text/x-python",
   "name": "python",
   "nbconvert_exporter": "python",
   "pygments_lexer": "ipython3",
   "version": "3.12.1"
  }
 },
 "nbformat": 4,
 "nbformat_minor": 2
}

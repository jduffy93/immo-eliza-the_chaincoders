{
 "cells": [
  {
   "cell_type": "code",
   "execution_count": 1,
   "metadata": {},
   "outputs": [],
   "source": [
    "import pandas as pd\n",
    "import numpy as np"
   ]
  },
  {
   "cell_type": "code",
   "execution_count": 2,
   "metadata": {},
   "outputs": [
    {
     "name": "stderr",
     "output_type": "stream",
     "text": [
      "C:\\Users\\Jean\\AppData\\Local\\Temp\\ipykernel_14916\\4156871272.py:1: DtypeWarning: Columns (88,105,106,118) have mixed types. Specify dtype option on import or set low_memory=False.\n",
      "  immo = pd.read_csv('../data/clean/details_clean.csv')\n"
     ]
    }
   ],
   "source": [
    "immo = pd.read_csv('../data/clean/details_clean.csv')\n",
    "\n",
    "pd.set_option('display.max_columns', None) # Displays all the columns"
   ]
  },
  {
   "cell_type": "code",
   "execution_count": 4,
   "metadata": {},
   "outputs": [
    {
     "name": "stdout",
     "output_type": "stream",
     "text": [
      "1 <class 'NoneType'>\n"
     ]
    },
    {
     "ename": "AttributeError",
     "evalue": "'NoneType' object has no attribute 'replace'",
     "output_type": "error",
     "traceback": [
      "\u001b[1;31m---------------------------------------------------------------------------\u001b[0m",
      "\u001b[1;31mAttributeError\u001b[0m                            Traceback (most recent call last)",
      "Cell \u001b[1;32mIn[4], line 2\u001b[0m\n\u001b[0;32m      1\u001b[0m \u001b[38;5;28mprint\u001b[39m(\u001b[38;5;124m'\u001b[39m\u001b[38;5;124m1\u001b[39m\u001b[38;5;124m'\u001b[39m, \u001b[38;5;28mtype\u001b[39m(immo))\n\u001b[1;32m----> 2\u001b[0m immo \u001b[38;5;241m=\u001b[39m immo\u001b[38;5;241m.\u001b[39mreplace(np\u001b[38;5;241m.\u001b[39mnan, \u001b[38;5;28;01mNone\u001b[39;00m)\n\u001b[0;32m      3\u001b[0m \u001b[38;5;28mprint\u001b[39m(\u001b[38;5;124m'\u001b[39m\u001b[38;5;124m2\u001b[39m\u001b[38;5;124m'\u001b[39m, \u001b[38;5;28mtype\u001b[39m(immo))\n\u001b[0;32m      5\u001b[0m \u001b[38;5;66;03m# Replace 'Not specified' with None as in this case it serves no purpose. If a consumption is not provided it might as well be absent\u001b[39;00m\n",
      "\u001b[1;31mAttributeError\u001b[0m: 'NoneType' object has no attribute 'replace'"
     ]
    }
   ],
   "source": [
    "print('1', type(immo))\n",
    "immo = immo.replace(np.nan, None)\n",
    "print('2', type(immo))\n",
    "\n",
    "# Replace 'Not specified' with None as in this case it serves no purpose. If a consumption is not provided it might as well be absent\n",
    "immo['Primary energy consumption'] = immo['Primary energy consumption'].replace('Not specified', None)\n",
    "immo['CO₂ emission'] = immo['CO₂ emission'].replace('Not specified', None)\n",
    "#immo['Yearly theoretical total energy consumption'] = immo['Yearly theoretical total energy consumption'].str.strip()\n",
    "#immo['Yearly theoretical total energy consumption'] = immo['Yearly theoretical total energy consumption'].replace('Not specified', None)\n",
    "print('3', type(immo))\n",
    "\n",
    "# Remove annuity properties\n",
    "substring = '€'\n",
    "filter = immo['Price'].str.contains(substring)\n",
    "immo = immo[~filter]\n",
    "\n",
    "print('4', type(immo))\n",
    "\n",
    "# Remove group developments for dataset\n",
    "immo = immo[\n",
    "    (immo[\"Subtype_of_property\"] != \"New-real-estate-project-houses\")\n",
    "    & (immo[\"Subtype_of_property\"] != \"New-real-estate-project-apartments\")\n",
    "]\n",
    "print('5', type(immo))\n",
    "\n",
    "\n",
    "# Remove substrings from strings\n",
    "immo['Price'] = immo['Price'].str.replace(r'Starting price : ','')\n",
    "immo['CO₂ emission'] = immo['CO₂ emission'].str.replace(r' kg CO₂/m²','')\n",
    "#immo['Yearly theoretical total energy consumption'] = immo['Yearly theoretical total energy consumption'].str.replace(r' kWh/year','')\n",
    "immo['Building price excluding VAT'] = immo['Building price excluding VAT'].str.replace(r'€','')\n",
    "immo['Building price excluding VAT'] = immo['Building price excluding VAT'].str.replace(r',','')\n",
    "immo['Total price including taxes*'] = immo['Total price including taxes*'].str.replace(r'€','')\n",
    "immo['Total price including taxes*'] = immo['Total price including taxes*'].str.replace(r',','')\n",
    "immo['Street frontage width'] = immo['Street frontage width'].str.replace(r' m','')\n",
    "print('6', type(immo))\n",
    "print()\n",
    "\n",
    "# Remove 'Unnamed: 0' column as that seems to just be a key column generated from 'raw' data\n",
    "immo = immo.drop(columns='Unnamed: 0', inplace=True)\n",
    "print(immo['Total price including taxes*'].value_counts())\n",
    "immo = immo.drop(columns='Yearly theoretical total energy consumption')\n",
    "immo = immo.drop(columns='Maximum duration of annuity')            \n",
    "    \n",
    "print('7', type(immo))\n"
   ]
  },
  {
   "cell_type": "code",
   "execution_count": null,
   "metadata": {},
   "outputs": [],
   "source": []
  }
 ],
 "metadata": {
  "kernelspec": {
   "display_name": "Python 3 (ipykernel)",
   "language": "python",
   "name": "python3"
  },
  "language_info": {
   "codemirror_mode": {
    "name": "ipython",
    "version": 3
   },
   "file_extension": ".py",
   "mimetype": "text/x-python",
   "name": "python",
   "nbconvert_exporter": "python",
   "pygments_lexer": "ipython3",
   "version": "3.11.5"
  }
 },
 "nbformat": 4,
 "nbformat_minor": 2
}
